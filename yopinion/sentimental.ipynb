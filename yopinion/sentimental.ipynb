{
 "metadata": {
  "name": "",
  "signature": "sha256:4e8f84800f91bb393365f0ef30bbd147ee172211f3d0e085ddd8246bbafedd5f"
 },
 "nbformat": 3,
 "nbformat_minor": 0,
 "worksheets": [
  {
   "cells": [
    {
     "cell_type": "code",
     "collapsed": false,
     "input": [
      "import elasticsearch\n",
      "import elasticsearch.helpers as eh\n",
      "import re\n",
      "import nltk\n",
      "import nltk.data\n",
      "import textblob\n",
      "from nltk.corpus import stopwords\n",
      "from collections import Counter, defaultdict\n",
      "from sklearn import linear_model\n",
      "import datetime\n",
      "import pickle\n",
      "import pandas as pd\n",
      "import numpy as np\n",
      "from __future__ import division\n",
      "from matplotlib import pyplot as plt"
     ],
     "language": "python",
     "metadata": {},
     "outputs": [],
     "prompt_number": 17
    },
    {
     "cell_type": "code",
     "collapsed": false,
     "input": [
      "es = elasticsearch.Elasticsearch([{'host': 'articles.cloudapp.net', 'port': 9200}])"
     ],
     "language": "python",
     "metadata": {},
     "outputs": [],
     "prompt_number": 3
    },
    {
     "cell_type": "code",
     "collapsed": false,
     "input": [
      "def cleantext(text):\n",
      "    shorttext = text.strip().encode('ascii', 'ignore')\n",
      "    nolinebreak = re.sub(r'\\n+',' ',shorttext)\n",
      "    return nolinebreak"
     ],
     "language": "python",
     "metadata": {},
     "outputs": [],
     "prompt_number": 4
    },
    {
     "cell_type": "code",
     "collapsed": false,
     "input": [
      "def sentify(text):\n",
      "    return sent_detector.tokenize(text)"
     ],
     "language": "python",
     "metadata": {},
     "outputs": [],
     "prompt_number": 5
    },
    {
     "cell_type": "code",
     "collapsed": false,
     "input": [
      "cycle = 0\n",
      "storage = dict()\n",
      "for document in eh.scan(es):\n",
      "    if document[u'_type'] <> u'article':\n",
      "        continue\n",
      "    # only consider articles\n",
      "    cycle += 1\n",
      "    if cycle % 1000 == 0:\n",
      "        print cycle\n",
      "    clean = cleantext(document[u'_source'][u'body'])\n",
      "    tb = textblob.TextBlob(clean)\n",
      "    score = sum([sent.sentiment.polarity for sent in tb.sentences])\n",
      "    date = datetime.datetime.strptime(document[u'_source'][u'timestamp'].encode('ascii', 'ignore')[:10], '%Y-%m-%d')\n",
      "    day = date.date()\n",
      "    if day in storage:\n",
      "        storage[day][0] += score\n",
      "        storage[day][1] += 1\n",
      "    else:\n",
      "        storage[day] = [score, 1]"
     ],
     "language": "python",
     "metadata": {},
     "outputs": [
      {
       "output_type": "stream",
       "stream": "stdout",
       "text": [
        "1000\n",
        "2000"
       ]
      },
      {
       "output_type": "stream",
       "stream": "stdout",
       "text": [
        "\n",
        "3000"
       ]
      },
      {
       "output_type": "stream",
       "stream": "stdout",
       "text": [
        "\n",
        "4000"
       ]
      },
      {
       "output_type": "stream",
       "stream": "stdout",
       "text": [
        "\n",
        "5000"
       ]
      },
      {
       "output_type": "stream",
       "stream": "stdout",
       "text": [
        "\n",
        "6000"
       ]
      },
      {
       "output_type": "stream",
       "stream": "stdout",
       "text": [
        "\n",
        "7000"
       ]
      },
      {
       "output_type": "stream",
       "stream": "stdout",
       "text": [
        "\n",
        "8000"
       ]
      },
      {
       "output_type": "stream",
       "stream": "stdout",
       "text": [
        "\n",
        "9000"
       ]
      },
      {
       "output_type": "stream",
       "stream": "stdout",
       "text": [
        "\n",
        "10000"
       ]
      },
      {
       "output_type": "stream",
       "stream": "stdout",
       "text": [
        "\n",
        "11000"
       ]
      },
      {
       "output_type": "stream",
       "stream": "stdout",
       "text": [
        "\n",
        "12000"
       ]
      },
      {
       "output_type": "stream",
       "stream": "stdout",
       "text": [
        "\n",
        "13000"
       ]
      },
      {
       "output_type": "stream",
       "stream": "stdout",
       "text": [
        "\n",
        "14000"
       ]
      },
      {
       "output_type": "stream",
       "stream": "stdout",
       "text": [
        "\n",
        "15000"
       ]
      },
      {
       "output_type": "stream",
       "stream": "stdout",
       "text": [
        "\n",
        "16000"
       ]
      },
      {
       "output_type": "stream",
       "stream": "stdout",
       "text": [
        "\n",
        "17000"
       ]
      },
      {
       "output_type": "stream",
       "stream": "stdout",
       "text": [
        "\n",
        "18000"
       ]
      },
      {
       "output_type": "stream",
       "stream": "stdout",
       "text": [
        "\n",
        "19000"
       ]
      },
      {
       "output_type": "stream",
       "stream": "stdout",
       "text": [
        "\n",
        "20000"
       ]
      },
      {
       "output_type": "stream",
       "stream": "stdout",
       "text": [
        "\n",
        "21000"
       ]
      },
      {
       "output_type": "stream",
       "stream": "stdout",
       "text": [
        "\n",
        "22000"
       ]
      },
      {
       "output_type": "stream",
       "stream": "stdout",
       "text": [
        "\n",
        "23000"
       ]
      },
      {
       "output_type": "stream",
       "stream": "stdout",
       "text": [
        "\n",
        "24000"
       ]
      },
      {
       "output_type": "stream",
       "stream": "stdout",
       "text": [
        "\n",
        "25000"
       ]
      },
      {
       "output_type": "stream",
       "stream": "stdout",
       "text": [
        "\n",
        "26000"
       ]
      },
      {
       "output_type": "stream",
       "stream": "stdout",
       "text": [
        "\n",
        "27000"
       ]
      },
      {
       "output_type": "stream",
       "stream": "stdout",
       "text": [
        "\n",
        "28000"
       ]
      },
      {
       "output_type": "stream",
       "stream": "stdout",
       "text": [
        "\n",
        "29000"
       ]
      },
      {
       "output_type": "stream",
       "stream": "stdout",
       "text": [
        "\n",
        "30000"
       ]
      },
      {
       "output_type": "stream",
       "stream": "stdout",
       "text": [
        "\n",
        "31000"
       ]
      },
      {
       "output_type": "stream",
       "stream": "stdout",
       "text": [
        "\n",
        "32000"
       ]
      },
      {
       "output_type": "stream",
       "stream": "stdout",
       "text": [
        "\n",
        "33000"
       ]
      },
      {
       "output_type": "stream",
       "stream": "stdout",
       "text": [
        "\n",
        "34000"
       ]
      },
      {
       "output_type": "stream",
       "stream": "stdout",
       "text": [
        "\n",
        "35000"
       ]
      },
      {
       "output_type": "stream",
       "stream": "stdout",
       "text": [
        "\n",
        "36000"
       ]
      },
      {
       "output_type": "stream",
       "stream": "stdout",
       "text": [
        "\n",
        "37000"
       ]
      },
      {
       "output_type": "stream",
       "stream": "stdout",
       "text": [
        "\n",
        "38000"
       ]
      },
      {
       "output_type": "stream",
       "stream": "stdout",
       "text": [
        "\n",
        "39000"
       ]
      },
      {
       "output_type": "stream",
       "stream": "stdout",
       "text": [
        "\n",
        "40000"
       ]
      },
      {
       "output_type": "stream",
       "stream": "stdout",
       "text": [
        "\n",
        "41000"
       ]
      },
      {
       "output_type": "stream",
       "stream": "stdout",
       "text": [
        "\n",
        "42000"
       ]
      },
      {
       "output_type": "stream",
       "stream": "stdout",
       "text": [
        "\n",
        "43000"
       ]
      },
      {
       "output_type": "stream",
       "stream": "stdout",
       "text": [
        "\n",
        "44000"
       ]
      },
      {
       "output_type": "stream",
       "stream": "stdout",
       "text": [
        "\n",
        "45000"
       ]
      },
      {
       "output_type": "stream",
       "stream": "stdout",
       "text": [
        "\n",
        "46000"
       ]
      },
      {
       "output_type": "stream",
       "stream": "stdout",
       "text": [
        "\n",
        "47000"
       ]
      },
      {
       "output_type": "stream",
       "stream": "stdout",
       "text": [
        "\n",
        "48000"
       ]
      },
      {
       "output_type": "stream",
       "stream": "stdout",
       "text": [
        "\n",
        "49000"
       ]
      },
      {
       "output_type": "stream",
       "stream": "stdout",
       "text": [
        "\n",
        "50000"
       ]
      },
      {
       "output_type": "stream",
       "stream": "stdout",
       "text": [
        "\n",
        "51000"
       ]
      },
      {
       "output_type": "stream",
       "stream": "stdout",
       "text": [
        "\n",
        "52000"
       ]
      },
      {
       "output_type": "stream",
       "stream": "stdout",
       "text": [
        "\n",
        "53000"
       ]
      },
      {
       "output_type": "stream",
       "stream": "stdout",
       "text": [
        "\n",
        "54000"
       ]
      },
      {
       "output_type": "stream",
       "stream": "stdout",
       "text": [
        "\n",
        "55000"
       ]
      },
      {
       "output_type": "stream",
       "stream": "stdout",
       "text": [
        "\n",
        "56000"
       ]
      },
      {
       "output_type": "stream",
       "stream": "stdout",
       "text": [
        "\n",
        "57000"
       ]
      },
      {
       "output_type": "stream",
       "stream": "stdout",
       "text": [
        "\n",
        "58000"
       ]
      },
      {
       "output_type": "stream",
       "stream": "stdout",
       "text": [
        "\n",
        "59000"
       ]
      },
      {
       "output_type": "stream",
       "stream": "stdout",
       "text": [
        "\n",
        "60000"
       ]
      },
      {
       "output_type": "stream",
       "stream": "stdout",
       "text": [
        "\n",
        "61000"
       ]
      },
      {
       "output_type": "stream",
       "stream": "stdout",
       "text": [
        "\n",
        "62000"
       ]
      },
      {
       "output_type": "stream",
       "stream": "stdout",
       "text": [
        "\n",
        "63000"
       ]
      },
      {
       "output_type": "stream",
       "stream": "stdout",
       "text": [
        "\n",
        "64000"
       ]
      },
      {
       "output_type": "stream",
       "stream": "stdout",
       "text": [
        "\n",
        "65000"
       ]
      },
      {
       "output_type": "stream",
       "stream": "stdout",
       "text": [
        "\n",
        "66000"
       ]
      },
      {
       "output_type": "stream",
       "stream": "stdout",
       "text": [
        "\n",
        "67000"
       ]
      },
      {
       "output_type": "stream",
       "stream": "stdout",
       "text": [
        "\n",
        "68000"
       ]
      },
      {
       "output_type": "stream",
       "stream": "stdout",
       "text": [
        "\n",
        "69000"
       ]
      },
      {
       "output_type": "stream",
       "stream": "stdout",
       "text": [
        "\n",
        "70000"
       ]
      },
      {
       "output_type": "stream",
       "stream": "stdout",
       "text": [
        "\n",
        "71000"
       ]
      },
      {
       "output_type": "stream",
       "stream": "stdout",
       "text": [
        "\n",
        "72000"
       ]
      },
      {
       "output_type": "stream",
       "stream": "stdout",
       "text": [
        "\n",
        "73000"
       ]
      },
      {
       "output_type": "stream",
       "stream": "stdout",
       "text": [
        "\n",
        "74000"
       ]
      },
      {
       "output_type": "stream",
       "stream": "stdout",
       "text": [
        "\n",
        "75000"
       ]
      },
      {
       "output_type": "stream",
       "stream": "stdout",
       "text": [
        "\n",
        "76000"
       ]
      },
      {
       "output_type": "stream",
       "stream": "stdout",
       "text": [
        "\n",
        "77000"
       ]
      },
      {
       "output_type": "stream",
       "stream": "stdout",
       "text": [
        "\n",
        "78000"
       ]
      },
      {
       "output_type": "stream",
       "stream": "stdout",
       "text": [
        "\n",
        "79000"
       ]
      },
      {
       "output_type": "stream",
       "stream": "stdout",
       "text": [
        "\n",
        "80000"
       ]
      },
      {
       "output_type": "stream",
       "stream": "stdout",
       "text": [
        "\n",
        "81000"
       ]
      },
      {
       "output_type": "stream",
       "stream": "stdout",
       "text": [
        "\n",
        "82000"
       ]
      },
      {
       "output_type": "stream",
       "stream": "stdout",
       "text": [
        "\n",
        "83000"
       ]
      },
      {
       "output_type": "stream",
       "stream": "stdout",
       "text": [
        "\n",
        "84000"
       ]
      },
      {
       "output_type": "stream",
       "stream": "stdout",
       "text": [
        "\n",
        "85000"
       ]
      },
      {
       "output_type": "stream",
       "stream": "stdout",
       "text": [
        "\n",
        "86000"
       ]
      },
      {
       "output_type": "stream",
       "stream": "stdout",
       "text": [
        "\n",
        "87000"
       ]
      },
      {
       "output_type": "stream",
       "stream": "stdout",
       "text": [
        "\n",
        "88000"
       ]
      },
      {
       "output_type": "stream",
       "stream": "stdout",
       "text": [
        "\n",
        "89000"
       ]
      },
      {
       "output_type": "stream",
       "stream": "stdout",
       "text": [
        "\n",
        "90000"
       ]
      },
      {
       "output_type": "stream",
       "stream": "stdout",
       "text": [
        "\n",
        "91000"
       ]
      },
      {
       "output_type": "stream",
       "stream": "stdout",
       "text": [
        "\n",
        "92000"
       ]
      },
      {
       "output_type": "stream",
       "stream": "stdout",
       "text": [
        "\n",
        "93000"
       ]
      },
      {
       "output_type": "stream",
       "stream": "stdout",
       "text": [
        "\n",
        "94000"
       ]
      },
      {
       "output_type": "stream",
       "stream": "stdout",
       "text": [
        "\n",
        "95000"
       ]
      },
      {
       "output_type": "stream",
       "stream": "stdout",
       "text": [
        "\n",
        "96000"
       ]
      },
      {
       "output_type": "stream",
       "stream": "stdout",
       "text": [
        "\n",
        "97000"
       ]
      },
      {
       "output_type": "stream",
       "stream": "stdout",
       "text": [
        "\n",
        "98000"
       ]
      },
      {
       "output_type": "stream",
       "stream": "stdout",
       "text": [
        "\n",
        "99000"
       ]
      },
      {
       "output_type": "stream",
       "stream": "stdout",
       "text": [
        "\n",
        "100000"
       ]
      },
      {
       "output_type": "stream",
       "stream": "stdout",
       "text": [
        "\n",
        "101000"
       ]
      },
      {
       "output_type": "stream",
       "stream": "stdout",
       "text": [
        "\n",
        "102000"
       ]
      },
      {
       "output_type": "stream",
       "stream": "stdout",
       "text": [
        "\n",
        "103000"
       ]
      },
      {
       "output_type": "stream",
       "stream": "stdout",
       "text": [
        "\n",
        "104000"
       ]
      },
      {
       "output_type": "stream",
       "stream": "stdout",
       "text": [
        "\n",
        "105000"
       ]
      },
      {
       "output_type": "stream",
       "stream": "stdout",
       "text": [
        "\n",
        "106000"
       ]
      },
      {
       "output_type": "stream",
       "stream": "stdout",
       "text": [
        "\n",
        "107000"
       ]
      },
      {
       "output_type": "stream",
       "stream": "stdout",
       "text": [
        "\n",
        "108000"
       ]
      },
      {
       "output_type": "stream",
       "stream": "stdout",
       "text": [
        "\n",
        "109000"
       ]
      },
      {
       "output_type": "stream",
       "stream": "stdout",
       "text": [
        "\n",
        "110000"
       ]
      },
      {
       "output_type": "stream",
       "stream": "stdout",
       "text": [
        "\n",
        "111000"
       ]
      },
      {
       "output_type": "stream",
       "stream": "stdout",
       "text": [
        "\n",
        "112000"
       ]
      },
      {
       "output_type": "stream",
       "stream": "stdout",
       "text": [
        "\n",
        "113000"
       ]
      },
      {
       "output_type": "stream",
       "stream": "stdout",
       "text": [
        "\n",
        "114000"
       ]
      },
      {
       "output_type": "stream",
       "stream": "stdout",
       "text": [
        "\n",
        "115000"
       ]
      },
      {
       "output_type": "stream",
       "stream": "stdout",
       "text": [
        "\n",
        "116000"
       ]
      },
      {
       "output_type": "stream",
       "stream": "stdout",
       "text": [
        "\n",
        "117000"
       ]
      },
      {
       "output_type": "stream",
       "stream": "stdout",
       "text": [
        "\n",
        "118000"
       ]
      },
      {
       "output_type": "stream",
       "stream": "stdout",
       "text": [
        "\n",
        "119000"
       ]
      },
      {
       "output_type": "stream",
       "stream": "stdout",
       "text": [
        "\n",
        "120000"
       ]
      },
      {
       "output_type": "stream",
       "stream": "stdout",
       "text": [
        "\n",
        "121000"
       ]
      },
      {
       "output_type": "stream",
       "stream": "stdout",
       "text": [
        "\n",
        "122000"
       ]
      },
      {
       "output_type": "stream",
       "stream": "stdout",
       "text": [
        "\n",
        "123000"
       ]
      },
      {
       "output_type": "stream",
       "stream": "stdout",
       "text": [
        "\n",
        "124000"
       ]
      },
      {
       "output_type": "stream",
       "stream": "stdout",
       "text": [
        "\n",
        "125000"
       ]
      },
      {
       "output_type": "stream",
       "stream": "stdout",
       "text": [
        "\n",
        "126000"
       ]
      },
      {
       "output_type": "stream",
       "stream": "stdout",
       "text": [
        "\n",
        "127000"
       ]
      },
      {
       "output_type": "stream",
       "stream": "stdout",
       "text": [
        "\n",
        "128000"
       ]
      },
      {
       "output_type": "stream",
       "stream": "stdout",
       "text": [
        "\n",
        "129000"
       ]
      },
      {
       "output_type": "stream",
       "stream": "stdout",
       "text": [
        "\n",
        "130000"
       ]
      },
      {
       "output_type": "stream",
       "stream": "stdout",
       "text": [
        "\n",
        "131000"
       ]
      },
      {
       "output_type": "stream",
       "stream": "stdout",
       "text": [
        "\n",
        "132000"
       ]
      },
      {
       "output_type": "stream",
       "stream": "stdout",
       "text": [
        "\n",
        "133000"
       ]
      },
      {
       "output_type": "stream",
       "stream": "stdout",
       "text": [
        "\n",
        "134000"
       ]
      },
      {
       "output_type": "stream",
       "stream": "stdout",
       "text": [
        "\n",
        "135000"
       ]
      },
      {
       "output_type": "stream",
       "stream": "stdout",
       "text": [
        "\n",
        "136000"
       ]
      },
      {
       "output_type": "stream",
       "stream": "stdout",
       "text": [
        "\n",
        "137000"
       ]
      },
      {
       "output_type": "stream",
       "stream": "stdout",
       "text": [
        "\n",
        "138000"
       ]
      },
      {
       "output_type": "stream",
       "stream": "stdout",
       "text": [
        "\n",
        "139000"
       ]
      },
      {
       "output_type": "stream",
       "stream": "stdout",
       "text": [
        "\n",
        "140000"
       ]
      },
      {
       "output_type": "stream",
       "stream": "stdout",
       "text": [
        "\n",
        "141000"
       ]
      },
      {
       "output_type": "stream",
       "stream": "stdout",
       "text": [
        "\n",
        "142000"
       ]
      },
      {
       "output_type": "stream",
       "stream": "stdout",
       "text": [
        "\n",
        "143000"
       ]
      },
      {
       "output_type": "stream",
       "stream": "stdout",
       "text": [
        "\n",
        "144000"
       ]
      },
      {
       "output_type": "stream",
       "stream": "stdout",
       "text": [
        "\n",
        "145000"
       ]
      },
      {
       "output_type": "stream",
       "stream": "stdout",
       "text": [
        "\n",
        "146000"
       ]
      },
      {
       "output_type": "stream",
       "stream": "stdout",
       "text": [
        "\n",
        "147000"
       ]
      },
      {
       "output_type": "stream",
       "stream": "stdout",
       "text": [
        "\n",
        "148000"
       ]
      },
      {
       "output_type": "stream",
       "stream": "stdout",
       "text": [
        "\n",
        "149000"
       ]
      },
      {
       "output_type": "stream",
       "stream": "stdout",
       "text": [
        "\n",
        "150000"
       ]
      },
      {
       "output_type": "stream",
       "stream": "stdout",
       "text": [
        "\n",
        "151000"
       ]
      },
      {
       "output_type": "stream",
       "stream": "stdout",
       "text": [
        "\n",
        "152000"
       ]
      },
      {
       "output_type": "stream",
       "stream": "stdout",
       "text": [
        "\n",
        "153000"
       ]
      },
      {
       "output_type": "stream",
       "stream": "stdout",
       "text": [
        "\n",
        "154000"
       ]
      },
      {
       "output_type": "stream",
       "stream": "stdout",
       "text": [
        "\n",
        "155000"
       ]
      },
      {
       "output_type": "stream",
       "stream": "stdout",
       "text": [
        "\n",
        "156000"
       ]
      },
      {
       "output_type": "stream",
       "stream": "stdout",
       "text": [
        "\n",
        "157000"
       ]
      },
      {
       "output_type": "stream",
       "stream": "stdout",
       "text": [
        "\n",
        "158000"
       ]
      },
      {
       "output_type": "stream",
       "stream": "stdout",
       "text": [
        "\n",
        "159000"
       ]
      },
      {
       "output_type": "stream",
       "stream": "stdout",
       "text": [
        "\n",
        "160000"
       ]
      },
      {
       "output_type": "stream",
       "stream": "stdout",
       "text": [
        "\n",
        "161000"
       ]
      },
      {
       "output_type": "stream",
       "stream": "stdout",
       "text": [
        "\n",
        "162000"
       ]
      },
      {
       "output_type": "stream",
       "stream": "stdout",
       "text": [
        "\n",
        "163000"
       ]
      },
      {
       "output_type": "stream",
       "stream": "stdout",
       "text": [
        "\n",
        "164000"
       ]
      },
      {
       "output_type": "stream",
       "stream": "stdout",
       "text": [
        "\n",
        "165000"
       ]
      },
      {
       "output_type": "stream",
       "stream": "stdout",
       "text": [
        "\n",
        "166000"
       ]
      },
      {
       "output_type": "stream",
       "stream": "stdout",
       "text": [
        "\n",
        "167000"
       ]
      },
      {
       "output_type": "stream",
       "stream": "stdout",
       "text": [
        "\n",
        "168000"
       ]
      },
      {
       "output_type": "stream",
       "stream": "stdout",
       "text": [
        "\n",
        "169000"
       ]
      },
      {
       "output_type": "stream",
       "stream": "stdout",
       "text": [
        "\n",
        "170000"
       ]
      },
      {
       "output_type": "stream",
       "stream": "stdout",
       "text": [
        "\n",
        "171000"
       ]
      },
      {
       "output_type": "stream",
       "stream": "stdout",
       "text": [
        "\n",
        "172000"
       ]
      },
      {
       "output_type": "stream",
       "stream": "stdout",
       "text": [
        "\n",
        "173000"
       ]
      },
      {
       "output_type": "stream",
       "stream": "stdout",
       "text": [
        "\n",
        "174000"
       ]
      },
      {
       "output_type": "stream",
       "stream": "stdout",
       "text": [
        "\n",
        "175000"
       ]
      },
      {
       "output_type": "stream",
       "stream": "stdout",
       "text": [
        "\n",
        "176000"
       ]
      },
      {
       "output_type": "stream",
       "stream": "stdout",
       "text": [
        "\n",
        "177000"
       ]
      },
      {
       "output_type": "stream",
       "stream": "stdout",
       "text": [
        "\n",
        "178000"
       ]
      },
      {
       "output_type": "stream",
       "stream": "stdout",
       "text": [
        "\n",
        "179000"
       ]
      },
      {
       "output_type": "stream",
       "stream": "stdout",
       "text": [
        "\n",
        "180000"
       ]
      },
      {
       "output_type": "stream",
       "stream": "stdout",
       "text": [
        "\n",
        "181000"
       ]
      },
      {
       "output_type": "stream",
       "stream": "stdout",
       "text": [
        "\n",
        "182000"
       ]
      },
      {
       "output_type": "stream",
       "stream": "stdout",
       "text": [
        "\n",
        "183000"
       ]
      },
      {
       "output_type": "stream",
       "stream": "stdout",
       "text": [
        "\n",
        "184000"
       ]
      },
      {
       "output_type": "stream",
       "stream": "stdout",
       "text": [
        "\n",
        "185000"
       ]
      },
      {
       "output_type": "stream",
       "stream": "stdout",
       "text": [
        "\n",
        "186000"
       ]
      },
      {
       "output_type": "stream",
       "stream": "stdout",
       "text": [
        "\n",
        "187000"
       ]
      },
      {
       "output_type": "stream",
       "stream": "stdout",
       "text": [
        "\n",
        "188000"
       ]
      },
      {
       "output_type": "stream",
       "stream": "stdout",
       "text": [
        "\n",
        "189000"
       ]
      },
      {
       "output_type": "stream",
       "stream": "stdout",
       "text": [
        "\n",
        "190000"
       ]
      },
      {
       "output_type": "stream",
       "stream": "stdout",
       "text": [
        "\n",
        "191000"
       ]
      },
      {
       "output_type": "stream",
       "stream": "stdout",
       "text": [
        "\n",
        "192000"
       ]
      },
      {
       "output_type": "stream",
       "stream": "stdout",
       "text": [
        "\n",
        "193000"
       ]
      },
      {
       "output_type": "stream",
       "stream": "stdout",
       "text": [
        "\n",
        "194000"
       ]
      },
      {
       "output_type": "stream",
       "stream": "stdout",
       "text": [
        "\n",
        "195000"
       ]
      },
      {
       "output_type": "stream",
       "stream": "stdout",
       "text": [
        "\n",
        "196000"
       ]
      },
      {
       "output_type": "stream",
       "stream": "stdout",
       "text": [
        "\n",
        "197000"
       ]
      },
      {
       "output_type": "stream",
       "stream": "stdout",
       "text": [
        "\n",
        "198000"
       ]
      },
      {
       "output_type": "stream",
       "stream": "stdout",
       "text": [
        "\n",
        "199000"
       ]
      },
      {
       "output_type": "stream",
       "stream": "stdout",
       "text": [
        "\n",
        "200000"
       ]
      },
      {
       "output_type": "stream",
       "stream": "stdout",
       "text": [
        "\n",
        "201000"
       ]
      },
      {
       "output_type": "stream",
       "stream": "stdout",
       "text": [
        "\n",
        "202000"
       ]
      },
      {
       "output_type": "stream",
       "stream": "stdout",
       "text": [
        "\n",
        "203000"
       ]
      },
      {
       "output_type": "stream",
       "stream": "stdout",
       "text": [
        "\n",
        "204000"
       ]
      },
      {
       "output_type": "stream",
       "stream": "stdout",
       "text": [
        "\n",
        "205000"
       ]
      },
      {
       "output_type": "stream",
       "stream": "stdout",
       "text": [
        "\n",
        "206000"
       ]
      },
      {
       "output_type": "stream",
       "stream": "stdout",
       "text": [
        "\n",
        "207000"
       ]
      },
      {
       "output_type": "stream",
       "stream": "stdout",
       "text": [
        "\n",
        "208000"
       ]
      },
      {
       "output_type": "stream",
       "stream": "stdout",
       "text": [
        "\n",
        "209000"
       ]
      },
      {
       "output_type": "stream",
       "stream": "stdout",
       "text": [
        "\n",
        "210000"
       ]
      },
      {
       "output_type": "stream",
       "stream": "stdout",
       "text": [
        "\n",
        "211000"
       ]
      },
      {
       "output_type": "stream",
       "stream": "stdout",
       "text": [
        "\n",
        "212000"
       ]
      },
      {
       "output_type": "stream",
       "stream": "stdout",
       "text": [
        "\n"
       ]
      }
     ],
     "prompt_number": 5
    },
    {
     "cell_type": "code",
     "collapsed": false,
     "input": [
      "pickle.dump(storage,open( \"storage.save\", \"wb\" ))"
     ],
     "language": "python",
     "metadata": {},
     "outputs": [],
     "prompt_number": 7
    },
    {
     "cell_type": "code",
     "collapsed": false,
     "input": [
      "#kk = eh.scan(es)\n",
      "#document = kk.next()\n",
      "#document[u'_type']\n",
      "#document\n",
      "clean = document[u'_source'][u'body']\n",
      "tb = textblob.TextBlob(clean)\n",
      "datetime.datetime.strptime(document[u'_source'][u'timestamp'], '%Y-%m-%dT%H:%M:%S.%f')\n"
     ],
     "language": "python",
     "metadata": {},
     "outputs": [
      {
       "metadata": {},
       "output_type": "pyout",
       "prompt_number": 57,
       "text": [
        "datetime.datetime(2014, 12, 16, 18, 4, 34, 568000)"
       ]
      }
     ],
     "prompt_number": 57
    },
    {
     "cell_type": "code",
     "collapsed": false,
     "input": [
      "df = pd.DataFrame.from_csv('/Users/zichong/Downloads/table.csv')\n",
      "df.head()"
     ],
     "language": "python",
     "metadata": {},
     "outputs": [
      {
       "html": [
        "<div style=\"max-height:1000px;max-width:1500px;overflow:auto;\">\n",
        "<table border=\"1\" class=\"dataframe\">\n",
        "  <thead>\n",
        "    <tr style=\"text-align: right;\">\n",
        "      <th></th>\n",
        "      <th>Open</th>\n",
        "      <th>High</th>\n",
        "      <th>Low</th>\n",
        "      <th>Close</th>\n",
        "      <th>Volume</th>\n",
        "      <th>Adj Close</th>\n",
        "    </tr>\n",
        "    <tr>\n",
        "      <th>Date</th>\n",
        "      <th></th>\n",
        "      <th></th>\n",
        "      <th></th>\n",
        "      <th></th>\n",
        "      <th></th>\n",
        "      <th></th>\n",
        "    </tr>\n",
        "  </thead>\n",
        "  <tbody>\n",
        "    <tr>\n",
        "      <th>2015-03-03</th>\n",
        "      <td> 4990.70</td>\n",
        "      <td> 4996.66</td>\n",
        "      <td> 4956.07</td>\n",
        "      <td> 4979.90</td>\n",
        "      <td> 2018900000</td>\n",
        "      <td> 4979.90</td>\n",
        "    </tr>\n",
        "    <tr>\n",
        "      <th>2015-03-02</th>\n",
        "      <td> 4973.43</td>\n",
        "      <td> 5008.57</td>\n",
        "      <td> 4972.01</td>\n",
        "      <td> 5008.10</td>\n",
        "      <td> 1931110000</td>\n",
        "      <td> 5008.10</td>\n",
        "    </tr>\n",
        "    <tr>\n",
        "      <th>2015-02-27</th>\n",
        "      <td> 4985.03</td>\n",
        "      <td> 4989.25</td>\n",
        "      <td> 4960.87</td>\n",
        "      <td> 4963.53</td>\n",
        "      <td> 1955590000</td>\n",
        "      <td> 4963.53</td>\n",
        "    </tr>\n",
        "    <tr>\n",
        "      <th>2015-02-26</th>\n",
        "      <td> 4969.27</td>\n",
        "      <td> 4989.11</td>\n",
        "      <td> 4955.51</td>\n",
        "      <td> 4987.89</td>\n",
        "      <td> 1905550000</td>\n",
        "      <td> 4987.89</td>\n",
        "    </tr>\n",
        "    <tr>\n",
        "      <th>2015-02-25</th>\n",
        "      <td> 4960.36</td>\n",
        "      <td> 4984.24</td>\n",
        "      <td> 4956.00</td>\n",
        "      <td> 4967.14</td>\n",
        "      <td> 1848560000</td>\n",
        "      <td> 4967.14</td>\n",
        "    </tr>\n",
        "  </tbody>\n",
        "</table>\n",
        "</div>"
       ],
       "metadata": {},
       "output_type": "pyout",
       "prompt_number": 8,
       "text": [
        "               Open     High      Low    Close      Volume  Adj Close\n",
        "Date                                                                 \n",
        "2015-03-03  4990.70  4996.66  4956.07  4979.90  2018900000    4979.90\n",
        "2015-03-02  4973.43  5008.57  4972.01  5008.10  1931110000    5008.10\n",
        "2015-02-27  4985.03  4989.25  4960.87  4963.53  1955590000    4963.53\n",
        "2015-02-26  4969.27  4989.11  4955.51  4987.89  1905550000    4987.89\n",
        "2015-02-25  4960.36  4984.24  4956.00  4967.14  1848560000    4967.14"
       ]
      }
     ],
     "prompt_number": 8
    },
    {
     "cell_type": "code",
     "collapsed": false,
     "input": [
      "df.reset_index(inplace=True)\n",
      "df['weighted_diff'] = (df['Adj Close'] - df.Open) * df.Volume//1000000000\n",
      "df['day'] = [k.date() for k in pd.to_datetime(df['Date'])]\n",
      "df.set_index('day', inplace=True)"
     ],
     "language": "python",
     "metadata": {},
     "outputs": [],
     "prompt_number": 9
    },
    {
     "cell_type": "code",
     "collapsed": false,
     "input": [
      "ser_roll = pd.rolling_mean(df.weighted_diff, window = 7, min_periods = 7)\n",
      "df_roll = pd.DataFrame(ser_roll, columns=['weighted_diff'])"
     ],
     "language": "python",
     "metadata": {},
     "outputs": [],
     "prompt_number": 10
    },
    {
     "cell_type": "code",
     "collapsed": false,
     "input": [
      "df1= pd.DataFrame.from_dict(storage, orient='index')\n",
      "df1.columns = ['total', 'number']\n",
      "df1['mean_sc'] = df1.total / df1.number\n",
      "df1.sort_index(inplace=True)"
     ],
     "language": "python",
     "metadata": {},
     "outputs": [],
     "prompt_number": 53
    },
    {
     "cell_type": "code",
     "collapsed": false,
     "input": [
      "df2 = pd.rolling_mean(df1.iloc[1:,:], window=7, min_periods=7)\n",
      "df2.head(10)"
     ],
     "language": "python",
     "metadata": {},
     "outputs": [
      {
       "html": [
        "<div style=\"max-height:1000px;max-width:1500px;overflow:auto;\">\n",
        "<table border=\"1\" class=\"dataframe\">\n",
        "  <thead>\n",
        "    <tr style=\"text-align: right;\">\n",
        "      <th></th>\n",
        "      <th>total</th>\n",
        "      <th>number</th>\n",
        "      <th>mean_sc</th>\n",
        "    </tr>\n",
        "  </thead>\n",
        "  <tbody>\n",
        "    <tr>\n",
        "      <th>2005-06-18</th>\n",
        "      <td>      NaN</td>\n",
        "      <td>      NaN</td>\n",
        "      <td>      NaN</td>\n",
        "    </tr>\n",
        "    <tr>\n",
        "      <th>2005-06-19</th>\n",
        "      <td>      NaN</td>\n",
        "      <td>      NaN</td>\n",
        "      <td>      NaN</td>\n",
        "    </tr>\n",
        "    <tr>\n",
        "      <th>2005-06-20</th>\n",
        "      <td>      NaN</td>\n",
        "      <td>      NaN</td>\n",
        "      <td>      NaN</td>\n",
        "    </tr>\n",
        "    <tr>\n",
        "      <th>2005-06-21</th>\n",
        "      <td>      NaN</td>\n",
        "      <td>      NaN</td>\n",
        "      <td>      NaN</td>\n",
        "    </tr>\n",
        "    <tr>\n",
        "      <th>2005-06-22</th>\n",
        "      <td>      NaN</td>\n",
        "      <td>      NaN</td>\n",
        "      <td>      NaN</td>\n",
        "    </tr>\n",
        "    <tr>\n",
        "      <th>2005-06-23</th>\n",
        "      <td>      NaN</td>\n",
        "      <td>      NaN</td>\n",
        "      <td>      NaN</td>\n",
        "    </tr>\n",
        "    <tr>\n",
        "      <th>2005-06-24</th>\n",
        "      <td> 7.471680</td>\n",
        "      <td> 2.285714</td>\n",
        "      <td> 3.681225</td>\n",
        "    </tr>\n",
        "    <tr>\n",
        "      <th>2005-06-26</th>\n",
        "      <td> 6.474922</td>\n",
        "      <td> 2.142857</td>\n",
        "      <td> 3.303492</td>\n",
        "    </tr>\n",
        "    <tr>\n",
        "      <th>2005-06-27</th>\n",
        "      <td> 5.877420</td>\n",
        "      <td> 2.571429</td>\n",
        "      <td> 2.327330</td>\n",
        "    </tr>\n",
        "    <tr>\n",
        "      <th>2005-06-28</th>\n",
        "      <td> 4.723510</td>\n",
        "      <td> 2.285714</td>\n",
        "      <td> 2.195469</td>\n",
        "    </tr>\n",
        "  </tbody>\n",
        "</table>\n",
        "</div>"
       ],
       "metadata": {},
       "output_type": "pyout",
       "prompt_number": 54,
       "text": [
        "               total    number   mean_sc\n",
        "2005-06-18       NaN       NaN       NaN\n",
        "2005-06-19       NaN       NaN       NaN\n",
        "2005-06-20       NaN       NaN       NaN\n",
        "2005-06-21       NaN       NaN       NaN\n",
        "2005-06-22       NaN       NaN       NaN\n",
        "2005-06-23       NaN       NaN       NaN\n",
        "2005-06-24  7.471680  2.285714  3.681225\n",
        "2005-06-26  6.474922  2.142857  3.303492\n",
        "2005-06-27  5.877420  2.571429  2.327330\n",
        "2005-06-28  4.723510  2.285714  2.195469"
       ]
      }
     ],
     "prompt_number": 54
    },
    {
     "cell_type": "code",
     "collapsed": false,
     "input": [
      "kkk = df2.join(df)\n",
      "kkk.head(10)"
     ],
     "language": "python",
     "metadata": {},
     "outputs": [
      {
       "html": [
        "<div style=\"max-height:1000px;max-width:1500px;overflow:auto;\">\n",
        "<table border=\"1\" class=\"dataframe\">\n",
        "  <thead>\n",
        "    <tr style=\"text-align: right;\">\n",
        "      <th></th>\n",
        "      <th>total</th>\n",
        "      <th>number</th>\n",
        "      <th>mean_sc</th>\n",
        "      <th>Date</th>\n",
        "      <th>Open</th>\n",
        "      <th>High</th>\n",
        "      <th>Low</th>\n",
        "      <th>Close</th>\n",
        "      <th>Volume</th>\n",
        "      <th>Adj Close</th>\n",
        "      <th>weighted_diff</th>\n",
        "    </tr>\n",
        "  </thead>\n",
        "  <tbody>\n",
        "    <tr>\n",
        "      <th>2005-06-18</th>\n",
        "      <td>      NaN</td>\n",
        "      <td>      NaN</td>\n",
        "      <td>      NaN</td>\n",
        "      <td>       NaT</td>\n",
        "      <td>     NaN</td>\n",
        "      <td>     NaN</td>\n",
        "      <td>     NaN</td>\n",
        "      <td>     NaN</td>\n",
        "      <td>        NaN</td>\n",
        "      <td>     NaN</td>\n",
        "      <td>NaN</td>\n",
        "    </tr>\n",
        "    <tr>\n",
        "      <th>2005-06-19</th>\n",
        "      <td>      NaN</td>\n",
        "      <td>      NaN</td>\n",
        "      <td>      NaN</td>\n",
        "      <td>       NaT</td>\n",
        "      <td>     NaN</td>\n",
        "      <td>     NaN</td>\n",
        "      <td>     NaN</td>\n",
        "      <td>     NaN</td>\n",
        "      <td>        NaN</td>\n",
        "      <td>     NaN</td>\n",
        "      <td>NaN</td>\n",
        "    </tr>\n",
        "    <tr>\n",
        "      <th>2005-06-20</th>\n",
        "      <td>      NaN</td>\n",
        "      <td>      NaN</td>\n",
        "      <td>      NaN</td>\n",
        "      <td>2005-06-20</td>\n",
        "      <td> 2081.05</td>\n",
        "      <td> 2096.77</td>\n",
        "      <td> 2076.42</td>\n",
        "      <td> 2088.13</td>\n",
        "      <td> 1408110000</td>\n",
        "      <td> 2088.13</td>\n",
        "      <td>  9</td>\n",
        "    </tr>\n",
        "    <tr>\n",
        "      <th>2005-06-21</th>\n",
        "      <td>      NaN</td>\n",
        "      <td>      NaN</td>\n",
        "      <td>      NaN</td>\n",
        "      <td>2005-06-21</td>\n",
        "      <td> 2087.63</td>\n",
        "      <td> 2095.69</td>\n",
        "      <td> 2083.59</td>\n",
        "      <td> 2091.07</td>\n",
        "      <td> 1557480000</td>\n",
        "      <td> 2091.07</td>\n",
        "      <td>  5</td>\n",
        "    </tr>\n",
        "    <tr>\n",
        "      <th>2005-06-22</th>\n",
        "      <td>      NaN</td>\n",
        "      <td>      NaN</td>\n",
        "      <td>      NaN</td>\n",
        "      <td>2005-06-22</td>\n",
        "      <td> 2097.05</td>\n",
        "      <td> 2102.75</td>\n",
        "      <td> 2083.76</td>\n",
        "      <td> 2092.03</td>\n",
        "      <td> 1668440000</td>\n",
        "      <td> 2092.03</td>\n",
        "      <td> -9</td>\n",
        "    </tr>\n",
        "    <tr>\n",
        "      <th>2005-06-23</th>\n",
        "      <td>      NaN</td>\n",
        "      <td>      NaN</td>\n",
        "      <td>      NaN</td>\n",
        "      <td>2005-06-23</td>\n",
        "      <td> 2093.91</td>\n",
        "      <td> 2106.57</td>\n",
        "      <td> 2070.57</td>\n",
        "      <td> 2070.66</td>\n",
        "      <td> 2009480000</td>\n",
        "      <td> 2070.66</td>\n",
        "      <td>-47</td>\n",
        "    </tr>\n",
        "    <tr>\n",
        "      <th>2005-06-24</th>\n",
        "      <td> 7.471680</td>\n",
        "      <td> 2.285714</td>\n",
        "      <td> 3.681225</td>\n",
        "      <td>2005-06-24</td>\n",
        "      <td> 2070.33</td>\n",
        "      <td> 2071.52</td>\n",
        "      <td> 2050.76</td>\n",
        "      <td> 2053.27</td>\n",
        "      <td> 2151000000</td>\n",
        "      <td> 2053.27</td>\n",
        "      <td>-37</td>\n",
        "    </tr>\n",
        "    <tr>\n",
        "      <th>2005-06-26</th>\n",
        "      <td> 6.474922</td>\n",
        "      <td> 2.142857</td>\n",
        "      <td> 3.303492</td>\n",
        "      <td>       NaT</td>\n",
        "      <td>     NaN</td>\n",
        "      <td>     NaN</td>\n",
        "      <td>     NaN</td>\n",
        "      <td>     NaN</td>\n",
        "      <td>        NaN</td>\n",
        "      <td>     NaN</td>\n",
        "      <td>NaN</td>\n",
        "    </tr>\n",
        "    <tr>\n",
        "      <th>2005-06-27</th>\n",
        "      <td> 5.877420</td>\n",
        "      <td> 2.571429</td>\n",
        "      <td> 2.327330</td>\n",
        "      <td>2005-06-27</td>\n",
        "      <td> 2050.30</td>\n",
        "      <td> 2054.47</td>\n",
        "      <td> 2039.69</td>\n",
        "      <td> 2045.20</td>\n",
        "      <td> 1448300000</td>\n",
        "      <td> 2045.20</td>\n",
        "      <td> -8</td>\n",
        "    </tr>\n",
        "    <tr>\n",
        "      <th>2005-06-28</th>\n",
        "      <td> 4.723510</td>\n",
        "      <td> 2.285714</td>\n",
        "      <td> 2.195469</td>\n",
        "      <td>2005-06-28</td>\n",
        "      <td> 2051.77</td>\n",
        "      <td> 2072.58</td>\n",
        "      <td> 2050.98</td>\n",
        "      <td> 2069.89</td>\n",
        "      <td> 1584200000</td>\n",
        "      <td> 2069.89</td>\n",
        "      <td> 28</td>\n",
        "    </tr>\n",
        "  </tbody>\n",
        "</table>\n",
        "</div>"
       ],
       "metadata": {},
       "output_type": "pyout",
       "prompt_number": 58,
       "text": [
        "               total    number   mean_sc       Date     Open     High  \\\n",
        "2005-06-18       NaN       NaN       NaN        NaT      NaN      NaN   \n",
        "2005-06-19       NaN       NaN       NaN        NaT      NaN      NaN   \n",
        "2005-06-20       NaN       NaN       NaN 2005-06-20  2081.05  2096.77   \n",
        "2005-06-21       NaN       NaN       NaN 2005-06-21  2087.63  2095.69   \n",
        "2005-06-22       NaN       NaN       NaN 2005-06-22  2097.05  2102.75   \n",
        "2005-06-23       NaN       NaN       NaN 2005-06-23  2093.91  2106.57   \n",
        "2005-06-24  7.471680  2.285714  3.681225 2005-06-24  2070.33  2071.52   \n",
        "2005-06-26  6.474922  2.142857  3.303492        NaT      NaN      NaN   \n",
        "2005-06-27  5.877420  2.571429  2.327330 2005-06-27  2050.30  2054.47   \n",
        "2005-06-28  4.723510  2.285714  2.195469 2005-06-28  2051.77  2072.58   \n",
        "\n",
        "                Low    Close      Volume  Adj Close  weighted_diff  \n",
        "2005-06-18      NaN      NaN         NaN        NaN            NaN  \n",
        "2005-06-19      NaN      NaN         NaN        NaN            NaN  \n",
        "2005-06-20  2076.42  2088.13  1408110000    2088.13              9  \n",
        "2005-06-21  2083.59  2091.07  1557480000    2091.07              5  \n",
        "2005-06-22  2083.76  2092.03  1668440000    2092.03             -9  \n",
        "2005-06-23  2070.57  2070.66  2009480000    2070.66            -47  \n",
        "2005-06-24  2050.76  2053.27  2151000000    2053.27            -37  \n",
        "2005-06-26      NaN      NaN         NaN        NaN            NaN  \n",
        "2005-06-27  2039.69  2045.20  1448300000    2045.20             -8  \n",
        "2005-06-28  2050.98  2069.89  1584200000    2069.89             28  "
       ]
      }
     ],
     "prompt_number": 58
    },
    {
     "cell_type": "code",
     "collapsed": false,
     "input": [
      "fig, ax1 = plt.subplots()\n",
      "ax1.plot(kkk.index, kkk.mean_sc, 'b-')\n",
      "ax1.set_ylabel('score', color='b')\n",
      "ax2 = ax1.twinx()\n",
      "\n",
      "ax2.plot(kkk.index, kkk['Adj Close'], 'r-')\n",
      "ax2.set_ylabel('nasdaq', color='r')\n",
      "plt.show()"
     ],
     "language": "python",
     "metadata": {},
     "outputs": []
    },
    {
     "cell_type": "code",
     "collapsed": false,
     "input": [
      "df1.fillna(value=0, inplace=True)"
     ],
     "language": "python",
     "metadata": {},
     "outputs": [],
     "prompt_number": 90
    },
    {
     "cell_type": "code",
     "collapsed": false,
     "input": [
      "df2 = df1.loc[:,df1.apply(lambda x: np.mean(x<>0)>0.10)]"
     ],
     "language": "python",
     "metadata": {},
     "outputs": [],
     "prompt_number": 98
    },
    {
     "cell_type": "code",
     "collapsed": false,
     "input": [
      "df_full = df2.join(df_roll, how='inner')"
     ],
     "language": "python",
     "metadata": {},
     "outputs": [],
     "prompt_number": 117
    },
    {
     "cell_type": "code",
     "collapsed": false,
     "input": [
      "cols = [col for col in df_full.columns if col not in ['weighted_diff']]\n",
      "clf = linear_model.Lasso()\n",
      "clf.fit(df_full[cols], df_full.weighted_diff)"
     ],
     "language": "python",
     "metadata": {},
     "outputs": [
      {
       "output_type": "stream",
       "stream": "stderr",
       "text": [
        "/Library/Python/2.7/site-packages/sklearn/linear_model/coordinate_descent.py:490: ConvergenceWarning: Objective did not converge. You might want to increase the number of iterations\n",
        "  ConvergenceWarning)\n"
       ]
      },
      {
       "metadata": {},
       "output_type": "pyout",
       "prompt_number": 118,
       "text": [
        "Lasso(alpha=1.0, copy_X=True, fit_intercept=True, max_iter=1000,\n",
        "   normalize=False, positive=False, precompute='auto', tol=0.0001,\n",
        "   warm_start=False)"
       ]
      }
     ],
     "prompt_number": 118
    },
    {
     "cell_type": "code",
     "collapsed": false,
     "input": [
      "result_sort = sorted(zip(df_full[cols], clf.coef_), key=lambda x: x[1], reverse=True)"
     ],
     "language": "python",
     "metadata": {},
     "outputs": [],
     "prompt_number": 123
    },
    {
     "cell_type": "code",
     "collapsed": false,
     "input": [
      "result_sort[:30]"
     ],
     "language": "python",
     "metadata": {},
     "outputs": [
      {
       "metadata": {},
       "output_type": "pyout",
       "prompt_number": 124,
       "text": [
        "[(u'taken', 0.40514286930734672),\n",
        " (u'claims', 0.34463574837744593),\n",
        " (u'rooms', 0.32930061416002443),\n",
        " (u'zoom', 0.32379534378446806),\n",
        " (u'limited', 0.29925194392818089),\n",
        " (u'restaurants', 0.27674613345846327),\n",
        " (u'myspace', 0.27508479097865424),\n",
        " (u'likes', 0.27261077406722506),\n",
        " (u'wars', 0.26026138358784429),\n",
        " (u'multiple', 0.24316431268286298),\n",
        " (u'provide', 0.24052763154510454),\n",
        " (u'viewing', 0.24029546184684702),\n",
        " (u'push', 0.23940417785093465),\n",
        " (u'black', 0.23758560863785555),\n",
        " (u'community', 0.23087868784519874),\n",
        " (u'sold', 0.2302227199493237),\n",
        " (u'exactly', 0.22855599326645495),\n",
        " (u'every', 0.22266495296231831),\n",
        " (u'cards', 0.21382643885012126),\n",
        " (u'testing', 0.21317007970321758),\n",
        " (u'aol', 0.20356944215473521),\n",
        " (u'daily', 0.19602796926223853),\n",
        " (u'z', 0.19266358080831475),\n",
        " (u'nike', 0.19199897889262904),\n",
        " (u'anyone', 0.18802930419566719),\n",
        " (u'works', 0.18672802731998303),\n",
        " (u'reach', 0.18638283635779379),\n",
        " (u'broadband', 0.18317856320383874),\n",
        " (u'best', 0.18312615254143888),\n",
        " (u'kind', 0.18162338165066996)]"
       ]
      }
     ],
     "prompt_number": 124
    },
    {
     "cell_type": "code",
     "collapsed": false,
     "input": [
      "result_sort[-30:]"
     ],
     "language": "python",
     "metadata": {},
     "outputs": [
      {
       "metadata": {},
       "output_type": "pyout",
       "prompt_number": 125,
       "text": [
        "[(u'want', -0.20588991947862548),\n",
        " (u'baby', -0.21082682199060196),\n",
        " (u'flash', -0.21566798898685646),\n",
        " (u'tax', -0.2246485604515274),\n",
        " (u'create', -0.22791177718885403),\n",
        " (u'gaming', -0.23057178240233517),\n",
        " (u'networks', -0.23699624570452243),\n",
        " (u'took', -0.2398845903156244),\n",
        " (u'finally', -0.24944162896822672),\n",
        " (u'posts', -0.25895291112860652),\n",
        " (u'course', -0.26630001430757688),\n",
        " (u'jordan', -0.26790843096921252),\n",
        " (u'm', -0.27860501523001419),\n",
        " (u'searches', -0.2858364372834527),\n",
        " (u'obama', -0.28830944093936717),\n",
        " (u'shot', -0.29332831456378489),\n",
        " (u'green', -0.30915130288549453),\n",
        " (u'specific', -0.32725593085394594),\n",
        " (u'jump', -0.33492382572108736),\n",
        " (u'kid', -0.36042158020218701),\n",
        " (u'tesla', -0.40400523516518161),\n",
        " (u'goes', -0.40795977125940536),\n",
        " (u'wanted', -0.4088616635109602),\n",
        " (u'force', -0.41558989489159198),\n",
        " (u'class', -0.43004046628691334),\n",
        " (u'stop', -0.45317064579185784),\n",
        " (u'malware', -0.45712947885865829),\n",
        " (u'similar', -0.51094282002221825),\n",
        " (u'date', -0.54839241958459095),\n",
        " (u'hearing', -0.56128972161816126)]"
       ]
      }
     ],
     "prompt_number": 125
    },
    {
     "cell_type": "code",
     "collapsed": false,
     "input": [],
     "language": "python",
     "metadata": {},
     "outputs": []
    }
   ],
   "metadata": {}
  }
 ]
}